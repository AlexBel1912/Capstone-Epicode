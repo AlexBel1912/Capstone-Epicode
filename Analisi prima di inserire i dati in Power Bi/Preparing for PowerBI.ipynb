{
 "cells": [
  {
   "cell_type": "markdown",
   "id": "9709ff40-6064-42af-8757-fb0d6c881438",
   "metadata": {},
   "source": [
    "# Preparazione dati per Power BI"
   ]
  },
  {
   "cell_type": "markdown",
   "id": "7923e0bc-406f-47c9-80f6-f4962b391c0a",
   "metadata": {},
   "source": [
    "### Setup e Import"
   ]
  },
  {
   "cell_type": "code",
   "execution_count": 1,
   "id": "643e6e2d-9f5f-42cf-9a6d-9c2967739229",
   "metadata": {},
   "outputs": [
    {
     "name": "stdout",
     "output_type": "stream",
     "text": [
      "Implementazione per ecosistema startup italiane\n"
     ]
    }
   ],
   "source": [
    "import pandas as pd\n",
    "import numpy as np\n",
    "from datetime import datetime\n",
    "import warnings\n",
    "warnings.filterwarnings('ignore')\n",
    "import os\n",
    "\n",
    "print(\"Implementazione per ecosistema startup italiane\")"
   ]
  },
  {
   "cell_type": "markdown",
   "id": "90a8a63f-3a3a-4388-b884-00f913732609",
   "metadata": {},
   "source": [
    "### Caricamento Dati"
   ]
  },
  {
   "cell_type": "code",
   "execution_count": 3,
   "id": "7877adf3-5829-417a-854b-7c8cd0289632",
   "metadata": {},
   "outputs": [
    {
     "name": "stdout",
     "output_type": "stream",
     "text": [
      "Dataset caricati:\n",
      "- Startup Registro Imprese: 12292 records\n",
      "- VEM Investimenti: 1364 records\n",
      "- PEM Investimenti: 1906 records\n"
     ]
    }
   ],
   "source": [
    "# Caricamento dataset principali\n",
    "startup_df = pd.read_csv(r'C:\\Users\\alexa\\OneDrive\\Documenti\\Final Capstone with Epicode\\VEM\\startup_with_regions.csv', sep=';', encoding='utf-8', keep_default_na=False, na_values=[''])\n",
    "vem_df = pd.read_csv(r'C:\\Users\\alexa\\OneDrive\\Documenti\\Final Capstone with Epicode\\VEM\\VEM 2020 2024.csv', sep=';', encoding='utf-8')\n",
    "pem_df = pd.read_csv(r'C:\\Users\\alexa\\OneDrive\\Documenti\\Final Capstone with Epicode\\VEM\\CSV PEM\\PEM 2020 - 2024.csv', sep=';', encoding='utf-8', keep_default_na=False, na_values=[''])\n",
    "\n",
    "print(f\"Dataset caricati:\")\n",
    "print(f\"- Startup Registro Imprese: {len(startup_df)} records\")\n",
    "print(f\"- VEM Investimenti: {len(vem_df)} records\")\n",
    "print(f\"- PEM Investimenti: {len(pem_df)} records\")"
   ]
  },
  {
   "cell_type": "markdown",
   "id": "97576bd1-26b1-4d5d-a7ae-e6036225d97b",
   "metadata": {},
   "source": [
    "### Pulizia Colonne"
   ]
  },
  {
   "cell_type": "code",
   "execution_count": 4,
   "id": "25ec3f3b-37a0-4028-94e3-7b00f923655a",
   "metadata": {},
   "outputs": [
    {
     "name": "stdout",
     "output_type": "stream",
     "text": [
      "Colonne pulite per tutti i dataset\n"
     ]
    }
   ],
   "source": [
    "# Pulizia nomi colonne\n",
    "startup_df.columns = startup_df.columns.str.strip()\n",
    "vem_df.columns = vem_df.columns.str.strip()\n",
    "pem_df.columns = pem_df.columns.str.strip()\n",
    "\n",
    "print(\"Colonne pulite per tutti i dataset\")"
   ]
  },
  {
   "cell_type": "markdown",
   "id": "6fbd7e24-f6b2-4bb5-aa37-ffb3cc58015b",
   "metadata": {},
   "source": [
    "### Dimensiuni Condivise"
   ]
  },
  {
   "cell_type": "code",
   "execution_count": 5,
   "id": "0b44df8a-11ac-464a-a8a7-556260572a73",
   "metadata": {},
   "outputs": [
    {
     "name": "stdout",
     "output_type": "stream",
     "text": [
      "Dim_Date creata: 6574 records\n",
      "Dim_Geography creata: 22 records\n"
     ]
    }
   ],
   "source": [
    "# Dim_Date (2013-2030)\n",
    "date_range = pd.date_range(start='2013-01-01', end='2030-12-31', freq='D')\n",
    "dim_date = pd.DataFrame({\n",
    "    'FullDate': date_range,\n",
    "    'Year': date_range.year,\n",
    "    'Quarter': date_range.quarter,\n",
    "    'Month': date_range.month,\n",
    "    'MonthName': date_range.month_name(),\n",
    "    'IsWeekend': date_range.weekday >= 5\n",
    "})\n",
    "\n",
    "print(f\"Dim_Date creata: {len(dim_date)} records\")\n",
    "\n",
    "# Dim_Geography\n",
    "regioni_startup = set(startup_df['regione'].dropna().unique())\n",
    "regioni_vem = set(vem_df['Regione'].dropna().unique())\n",
    "regioni_pem = set(pem_df['Regione'].dropna().unique())\n",
    "\n",
    "# Unisci tutte le regioni\n",
    "all_regions = regioni_startup.union(regioni_vem).union(regioni_pem)\n",
    "all_regions = sorted([r for r in all_regions if r and r != ''])\n",
    "\n",
    "dim_geography = pd.DataFrame({\n",
    "    'RegionKey': range(1, len(all_regions) + 1),\n",
    "    'RegionName': all_regions\n",
    "})\n",
    "\n",
    "# Aggiungi macro regioni\n",
    "macro_regions = {\n",
    "    'LOMBARDIA': 'Nord', \n",
    "    'PIEMONTE': 'Nord', \n",
    "    'VENETO': 'Nord', \n",
    "    'LIGURIA': 'Nord',\n",
    "    'EMILIA-ROMAGNA': 'Nord', \n",
    "    'TRENTINO-ALTO ADIGE': 'Nord', \n",
    "    'FRIULI-VENEZIA GIULIA': 'Nord',\n",
    "    \"VALLE D'AOSTA\": 'Nord', \n",
    "    'TOSCANA': 'Centro', \n",
    "    'LAZIO': 'Centro', \n",
    "    'UMBRIA': 'Centro',\n",
    "    'MARCHE': 'Centro', \n",
    "    'ABRUZZO': 'Centro', \n",
    "    'CAMPANIA': 'Sud', \n",
    "    'CALABRIA': 'Sud',\n",
    "    'PUGLIA': 'Sud', \n",
    "    'BASILICATA': 'Sud', \n",
    "    'SICILIA': 'Sud', \n",
    "    'SARDEGNA': 'Sud', \n",
    "    'MOLISE': 'Sud'\n",
    "}\n",
    "\n",
    "dim_geography['MacroRegion'] = dim_geography['RegionName'].map(macro_regions)\n",
    "dim_geography['MacroRegion'] = dim_geography['MacroRegion'].fillna('Altro')\n",
    "\n",
    "print(f\"Dim_Geography creata: {len(dim_geography)} records\")\n",
    "\n",
    "# Crea mapping per Region Key\n",
    "region_mapping = dict(zip(dim_geography['RegionName'], dim_geography['RegionKey']))"
   ]
  },
  {
   "cell_type": "markdown",
   "id": "c763c242-82d3-4c9a-a76d-a8177b856fc7",
   "metadata": {},
   "source": [
    "### DIM_Sector"
   ]
  },
  {
   "cell_type": "code",
   "execution_count": 6,
   "id": "efbe0d4a-725c-40b3-be43-ffbe146ad721",
   "metadata": {},
   "outputs": [
    {
     "name": "stdout",
     "output_type": "stream",
     "text": [
      "Dim_Sector creata: 40 records\n"
     ]
    }
   ],
   "source": [
    "# Raccogli settori da tutti i dataset\n",
    "settori_startup = set(startup_df['settore'].dropna().unique())\n",
    "settori_vem = set(vem_df['Settore'].dropna().unique())\n",
    "settori_pem = set(pem_df['Sector 1° level'].dropna().unique())\n",
    "\n",
    "all_sectors = settori_startup.union(settori_vem).union(settori_pem)\n",
    "all_sectors = sorted([s for s in all_sectors if s and s != ''])\n",
    "\n",
    "dim_sector = pd.DataFrame({\n",
    "    'SectorKey': range(1, len(all_sectors) + 1),\n",
    "    'SectorName': all_sectors\n",
    "})\n",
    "\n",
    "# Classifica settori\n",
    "dim_sector['SectorCategory'] = dim_sector['SectorName'].apply(lambda x: \n",
    "    'ICT' if 'ICT' in str(x).upper() or 'TECH' in str(x).upper() else\n",
    "    'SERVIZI' if 'SERVIZI' in str(x).upper() else\n",
    "    'INDUSTRIA' if 'INDUSTRIA' in str(x).upper() else\n",
    "    'ALTRO'\n",
    ")\n",
    "\n",
    "print(f\"Dim_Sector creata: {len(dim_sector)} records\")\n",
    "\n",
    "sector_mapping = dict(zip(dim_sector['SectorName'], dim_sector['SectorKey']))\n"
   ]
  },
  {
   "cell_type": "markdown",
   "id": "53cced41-f27d-4ab8-83c4-6e8baf9291ba",
   "metadata": {},
   "source": [
    "#### Dim_Investor"
   ]
  },
  {
   "cell_type": "code",
   "execution_count": 7,
   "id": "fb828b35-5283-44bc-8c8f-202bb15cc70c",
   "metadata": {},
   "outputs": [
    {
     "name": "stdout",
     "output_type": "stream",
     "text": [
      "Dim_Investor creata: 1122 records\n"
     ]
    }
   ],
   "source": [
    "# Raccogli investitori da VEM e PEM\n",
    "investitori_vem = set(vem_df['Lead Investor'].dropna().unique())\n",
    "investitori_pem = set(pem_df['Lead Investor/Advisor'].dropna().unique())\n",
    "\n",
    "all_investors = investitori_vem.union(investitori_pem)\n",
    "all_investors = sorted([i for i in all_investors if i and i != ''])\n",
    "\n",
    "dim_investor = pd.DataFrame({\n",
    "    'InvestorKey': range(1, len(all_investors) + 1),\n",
    "    'InvestorName': all_investors\n",
    "})\n",
    "\n",
    "# Classifica investitori (logica semplificata)\n",
    "dim_investor['InvestorType'] = dim_investor['InvestorName'].apply(lambda x:\n",
    "    'VC' if any(word in str(x).upper() for word in ['VENTURE', 'VENTURES', 'VC']) else\n",
    "    'PE' if any(word in str(x).upper() for word in ['CAPITAL', 'EQUITY', 'FUND']) else\n",
    "    'CORPORATE' if any(word in str(x).upper() for word in ['SPA', 'SRL', 'GROUP']) else\n",
    "    'GOVERNMENT' if any(word in str(x).upper() for word in ['INVITALIA', 'CDP', 'STATO']) else\n",
    "    'OTHER'\n",
    ")\n",
    "\n",
    "print(f\"Dim_Investor creata: {len(dim_investor)} records\")\n",
    "\n",
    "investor_mapping = dict(zip(dim_investor['InvestorName'], dim_investor['InvestorKey']))"
   ]
  },
  {
   "cell_type": "markdown",
   "id": "0ee3a493-c8f5-413e-9e5b-5a21b0b3d1ef",
   "metadata": {},
   "source": [
    "### Funzioni di utilita"
   ]
  },
  {
   "cell_type": "code",
   "execution_count": 8,
   "id": "9a5b70f9-5f4a-4f27-9905-1c20b67d2347",
   "metadata": {},
   "outputs": [
    {
     "name": "stdout",
     "output_type": "stream",
     "text": [
      "Funzioni di utilità create\n"
     ]
    }
   ],
   "source": [
    "def parse_date_to_key(date_str):\n",
    "    \"\"\"Converte data string in DateKey\"\"\"\n",
    "    if pd.isna(date_str):\n",
    "        return None\n",
    "    \n",
    "    try:\n",
    "        if isinstance(date_str, str):\n",
    "            for fmt in ['%d/%m/%Y', '%Y-%m-%d', '%d-%m-%Y']:\n",
    "                try:\n",
    "                    date_obj = datetime.strptime(date_str, fmt)\n",
    "                    return int(date_obj.strftime('%Y%m%d'))\n",
    "                except:\n",
    "                    continue\n",
    "        return None\n",
    "    except:\n",
    "        return None\n",
    "\n",
    "def get_region_key(region_name):\n",
    "    \"\"\"Ottiene RegionKey da nome regione\"\"\"\n",
    "    return region_mapping.get(region_name, 0)\n",
    "\n",
    "def get_sector_key(sector_name):\n",
    "    \"\"\"Ottiene SectorKey da nome settore\"\"\"\n",
    "    return sector_mapping.get(sector_name, 0)\n",
    "\n",
    "def get_investor_key(investor_name):\n",
    "    \"\"\"Ottiene InvestorKey da nome investitore\"\"\"\n",
    "    return investor_mapping.get(investor_name, 0)\n",
    "\n",
    "print(\"Funzioni di utilità create\")\n"
   ]
  },
  {
   "cell_type": "markdown",
   "id": "766f075d-80be-4e59-af7d-a1a6fdc85963",
   "metadata": {},
   "source": [
    "### Fact Startup Registry"
   ]
  },
  {
   "cell_type": "code",
   "execution_count": 9,
   "id": "b55aa31f-f31a-41a1-acf7-8ed254e72d46",
   "metadata": {},
   "outputs": [
    {
     "name": "stdout",
     "output_type": "stream",
     "text": [
      "Fact_Startup_Registry creata: 12292 records\n"
     ]
    }
   ],
   "source": [
    "fact_startup_registry = pd.DataFrame({\n",
    "    'StartupID': range(1, len(startup_df) + 1),\n",
    "    'RegionKey': startup_df['regione'].apply(get_region_key),\n",
    "    'SectorKey': startup_df['settore'].apply(get_sector_key),\n",
    "    'Data_Iscrizione_StartUp': startup_df['data iscrizione alla sezione delle startup'],\n",
    "    'DateKey_InizioAttivita': startup_df['data inizio dell\\'esercizio effettivo dell\\'attività'].apply(parse_date_to_key),\n",
    "    'Denominazione': startup_df['denominazione'],\n",
    "    'nome': startup_df['nome'],\n",
    "    'Natura giuridica': startup_df['nat.giuridica'],\n",
    "    'Provincia': startup_df['pv'],\n",
    "    'Comune': startup_df['comune'],\n",
    "    'Regione' : startup_df['regione'],\n",
    "    'AtecoCode': startup_df['ateco 2007'],\n",
    "    'Data iscrizione al Registro Imprese': startup_df['data iscrizione al Registro Imprese'],\n",
    "    'Settore': startup_df['settore'],\n",
    "    'AltoValoreTecnologico': startup_df['alto valore tecnologico'],\n",
    "    'VocazioneSociale': startup_df['vocazione sociale'],\n",
    "    'Classe addetti' : startup_df['classe addetti'],\n",
    "    'Calsse val. prodozione' : startup_df['classe val.prod.'],\n",
    "    'ClasseCapitaleSociale': startup_df['classe cap.sociale'],\n",
    "    'SpeseRnD': startup_df['spese in ricerca e sviluppo'],\n",
    "    'ForzaLavoroTitoli': startup_df['forza lavoro con titoli'],\n",
    "    'PossessoBrevetti': startup_df['possesso di brevetti'],\n",
    "    'PrevalenzaFemminile': startup_df['prevalenza femminile'],\n",
    "    'PrevalenzaGiovanile': startup_df['prevalenza giovanile'],\n",
    "    'PrevalenzaStraniera': startup_df['prevalenza straniera'],\n",
    "    'Status': startup_df['status'],\n",
    "    'TipoSocieta': startup_df['tipo_societa'],\n",
    "    'Year': startup_df['Year'],\n",
    "    'NumeroStartup': 1  # Measure\n",
    "})\n",
    "\n",
    "print(f\"Fact_Startup_Registry creata: {len(fact_startup_registry)} records\")\n"
   ]
  },
  {
   "cell_type": "markdown",
   "id": "7d32a733-7c73-4131-b785-48e941a132a9",
   "metadata": {},
   "source": [
    "### Fact_VEM_Investments"
   ]
  },
  {
   "cell_type": "code",
   "execution_count": 10,
   "id": "41722922-2eec-403c-9abf-2b205f680589",
   "metadata": {},
   "outputs": [
    {
     "name": "stdout",
     "output_type": "stream",
     "text": [
      "Fact_VEM_Investments creata: 1364 records\n"
     ]
    }
   ],
   "source": [
    "fact_vem_investments = pd.DataFrame({\n",
    "    'VEMDealID': range(1, len(vem_df) + 1),\n",
    "    'RegionKey': vem_df['Regione'].apply(get_region_key),\n",
    "    'SectorKey': vem_df['Settore'].apply(get_sector_key),\n",
    "    'InvestorKey': vem_df['Lead Investor'].apply(get_investor_key),\n",
    "    'TargetCompany': vem_df['Target Company'],\n",
    "    'LeadInvestor': vem_df['Lead Investor'],\n",
    "    'CoInvestors': vem_df['Co-Investors'],\n",
    "    'InvestmentStage': vem_df['Investment\\nStage'],\n",
    "    'DealOrigination': vem_df['Deal\\nOrigination'],\n",
    "    'Regione': vem_df['Regione'],\n",
    "    'Country' : vem_df['Country'],\n",
    "    'AnnoFondazione': vem_df['Anno di\\nFondazione'],\n",
    "    'Settore': vem_df['Settore'],\n",
    "    'DescrizioneAttivita': vem_df['Descrizione Attività'],\n",
    "    'AnnoReportVEM': vem_df['Anno report VEM'],\n",
    "    'AmountInvested_EUR_MLN': vem_df['Ammontare\\nInvestito Totale\\n(Euro Mln)'],\n",
    "    'NumeroInvestimenti': 1  # Measure\n",
    "})\n",
    "\n",
    "# Aggiungi colonne calcolate\n",
    "fact_vem_investments['EtaAlInvestimento'] = fact_vem_investments['AnnoReportVEM'] - fact_vem_investments['AnnoFondazione']\n",
    "fact_vem_investments['IsRealStartup'] = fact_vem_investments['EtaAlInvestimento'] <= 5\n",
    "\n",
    "print(f\"Fact_VEM_Investments creata: {len(fact_vem_investments)} records\")\n"
   ]
  },
  {
   "cell_type": "markdown",
   "id": "76e90fdf-acca-45fb-86a2-44550eb2248e",
   "metadata": {},
   "source": [
    "### Fact_PEM_Investments"
   ]
  },
  {
   "cell_type": "code",
   "execution_count": 11,
   "id": "0a1ca4c2-7913-49d7-98d0-1bf2ed465a51",
   "metadata": {},
   "outputs": [
    {
     "name": "stdout",
     "output_type": "stream",
     "text": [
      "Fact_PEM_Investments creata: 1906 records\n"
     ]
    }
   ],
   "source": [
    "fact_pem_investments = pd.DataFrame({\n",
    "    'PEMDealID': range(1, len(pem_df) + 1),\n",
    "    'RegionKey': pem_df['Regione'].apply(get_region_key),\n",
    "    'SectorKey': pem_df['Sector 1° level'].apply(get_sector_key),\n",
    "    'InvestorKey': pem_df['Lead Investor/Advisor'].apply(get_investor_key),\n",
    "    'TargetCompany': pem_df['Target company'],\n",
    "    'LeadInvestor': pem_df['Lead Investor/Advisor'],\n",
    "    'CoInvestors': pem_df['Co-investors'],\n",
    "    'InvestmentStage': pem_df['Investment stage'],\n",
    "    'DealOrigination': pem_df['Deal origination'],\n",
    "    'Regione': pem_df['Regione'],\n",
    "    '2.Regione' : pem_df['2 Region'],\n",
    "    'Sector1Level': pem_df['Sector 1° level'],\n",
    "    'SectorSIC': pem_df['Sector\\n(SIC Code)'],\n",
    "    'AnnoReportPEM': pem_df['ANNO REPORT PEM'],\n",
    "    'PlatformCompany': pem_df['Platform company'],\n",
    "    'AmountInvested_EUR_MLN': pem_df['Invested\\namount\\n(€ mln)'],\n",
    "    'AcquiredStake_Percent': pem_df['Acquired\\nstake\\n(%)'],\n",
    "    'NumeroInvestimenti': 1  # Measure\n",
    "})\n",
    "\n",
    "# Aggiungi colonne calcolate\n",
    "fact_pem_investments['IsBuyout'] = fact_pem_investments['InvestmentStage'] == 'Buy Out'\n",
    "fact_pem_investments['IsInfrastructure'] = fact_pem_investments['InvestmentStage'] == 'Infrastructure'\n",
    "\n",
    "print(f\"Fact_PEM_Investments creata: {len(fact_pem_investments)} records\")"
   ]
  },
  {
   "cell_type": "markdown",
   "id": "d999ae73-7f6d-415c-8a2d-4d2e5437877b",
   "metadata": {},
   "source": [
    "### Validazione Dati"
   ]
  },
  {
   "cell_type": "code",
   "execution_count": 12,
   "id": "6be200c2-99e2-471f-9ae1-0cf66d580a9f",
   "metadata": {},
   "outputs": [
    {
     "name": "stdout",
     "output_type": "stream",
     "text": [
      "\n",
      "--- VALIDAZIONE QUALITÀ DATI ---\n",
      "Startup Registry - Completezza dati:\n",
      "  Regione: 100.0%\n",
      "  Settore: 100.0%\n",
      "  Data Iscrizione: 100.0%\n",
      "\n",
      "VEM Investments - Completezza dati:\n",
      "  Regione: 100.0%\n",
      "  Settore: 100.0%\n",
      "  Investitore: 100.0%\n",
      "  Importo: 88.8%\n",
      "\n",
      "PEM Investments - Completezza dati:\n",
      "  Regione: 100.0%\n",
      "  Settore: 100.0%\n",
      "  Investitore: 100.0%\n",
      "  Importo: 10.0%\n"
     ]
    }
   ],
   "source": [
    "print(\"\\n--- VALIDAZIONE QUALITÀ DATI ---\")\n",
    "\n",
    "# Startup Registry\n",
    "startup_completeness = {\n",
    "    'Regione': fact_startup_registry['RegionKey'].notna().sum() / len(fact_startup_registry),\n",
    "    'Settore': fact_startup_registry['SectorKey'].notna().sum() / len(fact_startup_registry),\n",
    "    'Data Iscrizione': fact_startup_registry['Data_Iscrizione_StartUp'].notna().sum() / len(fact_startup_registry)\n",
    "}\n",
    "\n",
    "print(\"Startup Registry - Completezza dati:\")\n",
    "for campo, percentuale in startup_completeness.items():\n",
    "    print(f\"  {campo}: {percentuale:.1%}\")\n",
    "\n",
    "# VEM Investments\n",
    "vem_completeness = {\n",
    "    'Regione': fact_vem_investments['RegionKey'].notna().sum() / len(fact_vem_investments),\n",
    "    'Settore': fact_vem_investments['SectorKey'].notna().sum() / len(fact_vem_investments),\n",
    "    'Investitore': fact_vem_investments['InvestorKey'].notna().sum() / len(fact_vem_investments),\n",
    "    'Importo': fact_vem_investments['AmountInvested_EUR_MLN'].notna().sum() / len(fact_vem_investments)\n",
    "}\n",
    "\n",
    "print(\"\\nVEM Investments - Completezza dati:\")\n",
    "for campo, percentuale in vem_completeness.items():\n",
    "    print(f\"  {campo}: {percentuale:.1%}\")\n",
    "\n",
    "# PEM Investments\n",
    "pem_completeness = {\n",
    "    'Regione': fact_pem_investments['RegionKey'].notna().sum() / len(fact_pem_investments),\n",
    "    'Settore': fact_pem_investments['SectorKey'].notna().sum() / len(fact_pem_investments),\n",
    "    'Investitore': fact_pem_investments['InvestorKey'].notna().sum() / len(fact_pem_investments),\n",
    "    'Importo': fact_pem_investments['AmountInvested_EUR_MLN'].notna().sum() / len(fact_pem_investments)\n",
    "}\n",
    "\n",
    "print(\"\\nPEM Investments - Completezza dati:\")\n",
    "for campo, percentuale in pem_completeness.items():\n",
    "    print(f\"  {campo}: {percentuale:.1%}\")\n"
   ]
  },
  {
   "cell_type": "markdown",
   "id": "fc353061-389d-4da0-a0b4-e725f805708f",
   "metadata": {},
   "source": [
    "### Statistiche Descrittive"
   ]
  },
  {
   "cell_type": "code",
   "execution_count": 13,
   "id": "ca5f3d8a-46c9-4da9-bf13-074d227644cd",
   "metadata": {},
   "outputs": [
    {
     "name": "stdout",
     "output_type": "stream",
     "text": [
      "object\n",
      "0    0,53\n",
      "1     1,7\n",
      "2     0,7\n",
      "3     1,2\n",
      "4       3\n",
      "5     NaN\n",
      "6     0,2\n",
      "7     2,3\n",
      "8     1,7\n",
      "9     NaN\n",
      "Name: AmountInvested_EUR_MLN, dtype: object\n"
     ]
    }
   ],
   "source": [
    "print(fact_vem_investments['AmountInvested_EUR_MLN'].dtype)\n",
    "print(fact_vem_investments['AmountInvested_EUR_MLN'].head(10))\n"
   ]
  },
  {
   "cell_type": "code",
   "execution_count": 14,
   "id": "88ddbe98-718b-441b-a264-0bc7ce34aa4f",
   "metadata": {},
   "outputs": [],
   "source": [
    "fact_vem_investments['AmountInvested_EUR_MLN'] = (\n",
    "    fact_vem_investments['AmountInvested_EUR_MLN']\n",
    "    .astype(str)\n",
    "    .str.replace(',', '.', regex=False)             # 1,5 → 1.5\n",
    "    .str.replace(r'[^\\d\\.]', '', regex=True)        # Rimuove caratteri non numerici\n",
    "    .replace(['', 'nan', 'NaN', 'None'], '0')       # Gestisce stringhe vuote o null\n",
    "    .astype(float)                                  # Converte in float\n",
    ")\n"
   ]
  },
  {
   "cell_type": "code",
   "execution_count": 15,
   "id": "9e29ca5a-f2f5-4d98-a7ba-4510c1f4579c",
   "metadata": {},
   "outputs": [
    {
     "name": "stdout",
     "output_type": "stream",
     "text": [
      "\n",
      "--- STATISTICHE DESCRITTIVE ---\n",
      "VEM - Startup vere (≤5 anni): 928 (68.0%)\n",
      "VEM - Aziende mature (>5 anni): 436 (32.0%)\n",
      "\n",
      "Investimenti VEM:\n",
      "  Startup vere: 3795.2M € (49.1%)\n",
      "  Aziende mature: 3936.3M € (50.9%)\n",
      "\n",
      "PEM - Buyout: 1491 (78.2%)\n",
      "PEM - Altri: 415 (21.8%)\n"
     ]
    }
   ],
   "source": [
    "print(\"\\n--- STATISTICHE DESCRITTIVE ---\")\n",
    "\n",
    "# VEM - Startup vere vs mature\n",
    "vem_real_startups = fact_vem_investments[fact_vem_investments['IsRealStartup'] == True]\n",
    "vem_mature_companies = fact_vem_investments[fact_vem_investments['IsRealStartup'] == False]\n",
    "\n",
    "print(f\"VEM - Startup vere (≤5 anni): {len(vem_real_startups)} ({len(vem_real_startups)/len(fact_vem_investments):.1%})\")\n",
    "print(f\"VEM - Aziende mature (>5 anni): {len(vem_mature_companies)} ({len(vem_mature_companies)/len(fact_vem_investments):.1%})\")\n",
    "\n",
    "# Investimenti per categoria\n",
    "vem_startup_investments = vem_real_startups['AmountInvested_EUR_MLN'].sum()\n",
    "vem_mature_investments = vem_mature_companies['AmountInvested_EUR_MLN'].sum()\n",
    "\n",
    "print(f\"\\nInvestimenti VEM:\")\n",
    "print(f\"  Startup vere: {vem_startup_investments:.1f}M € ({vem_startup_investments/(vem_startup_investments+vem_mature_investments):.1%})\")\n",
    "print(f\"  Aziende mature: {vem_mature_investments:.1f}M € ({vem_mature_investments/(vem_startup_investments+vem_mature_investments):.1%})\")\n",
    "\n",
    "# PEM - Distribuzione per tipo investimento\n",
    "pem_buyout = fact_pem_investments[fact_pem_investments['IsBuyout'] == True]\n",
    "pem_other = fact_pem_investments[fact_pem_investments['IsBuyout'] == False]\n",
    "\n",
    "print(f\"\\nPEM - Buyout: {len(pem_buyout)} ({len(pem_buyout)/len(fact_pem_investments):.1%})\")\n",
    "print(f\"PEM - Altri: {len(pem_other)} ({len(pem_other)/len(fact_pem_investments):.1%})\")\n",
    "\n"
   ]
  },
  {
   "cell_type": "markdown",
   "id": "5a77f2aa-d4c6-40a8-a30f-c801b54713e6",
   "metadata": {},
   "source": [
    "### Export per Power BI"
   ]
  },
  {
   "cell_type": "code",
   "execution_count": 16,
   "id": "a8dc837a-ebb8-400a-b3e7-d3adad0bf75d",
   "metadata": {},
   "outputs": [
    {
     "name": "stdout",
     "output_type": "stream",
     "text": [
      "\n",
      "=== EXPORT PER POWER BI ===\n",
      "✓ Dim_Date.csv - 6574 records\n",
      "✓ Dim_Geography.csv - 22 records\n",
      "✓ Dim_Sector.csv - 40 records\n",
      "✓ Dim_Investor.csv - 1122 records\n",
      "✓ Fact_Startup_Registry.csv - 12292 records\n",
      "✓ Fact_VEM_Investments.csv - 1364 records\n",
      "✓ Fact_PEM_Investments.csv - 1906 records\n",
      "\n",
      "Tutte le tabelle sono state esportate!\n",
      "Importa in Power BI e crea le relazioni tra le dimensioni e le fact table.\n"
     ]
    }
   ],
   "source": [
    "# Esporta tutte le tabelle\n",
    "tables_to_export = {\n",
    "    'Dim_Date': dim_date,\n",
    "    'Dim_Geography': dim_geography,\n",
    "    'Dim_Sector': dim_sector,\n",
    "    'Dim_Investor': dim_investor,\n",
    "    'Fact_Startup_Registry': fact_startup_registry,\n",
    "    'Fact_VEM_Investments': fact_vem_investments,\n",
    "    'Fact_PEM_Investments': fact_pem_investments\n",
    "}\n",
    "\n",
    "print(\"\\n=== EXPORT PER POWER BI ===\")\n",
    "for table_name, df in tables_to_export.items():\n",
    "    filename = f'{table_name}.csv'\n",
    "    df.to_csv(filename, index=False)\n",
    "    print(f\"✓ {filename} - {len(df)} records\")\n",
    "\n",
    "print(\"\\nTutte le tabelle sono state esportate!\")\n",
    "print(\"Importa in Power BI e crea le relazioni tra le dimensioni e le fact table.\")"
   ]
  },
  {
   "cell_type": "code",
   "execution_count": 17,
   "id": "633b23bc-d0a0-408f-a7b4-1fedfdf95e29",
   "metadata": {},
   "outputs": [
    {
     "name": "stdout",
     "output_type": "stream",
     "text": [
      "📂 Salvataggio nella cartella: C:\\Users\\alexa\\OneDrive\\Documenti\\Final Capstone with Epicode\\VEM\\CSV PEM\n"
     ]
    }
   ],
   "source": [
    "import os\n",
    "print(f\"📂 Salvataggio nella cartella: {os.getcwd()}\")\n"
   ]
  },
  {
   "cell_type": "markdown",
   "id": "a861eff7-1a83-41dd-bdbd-db92264dc8d5",
   "metadata": {},
   "source": [
    "### Relazioni Power BI"
   ]
  },
  {
   "cell_type": "code",
   "execution_count": 18,
   "id": "795ec667-c79a-4cd4-9fb1-7a58b5a73669",
   "metadata": {},
   "outputs": [
    {
     "name": "stdout",
     "output_type": "stream",
     "text": [
      "\n",
      "--- RELAZIONI DA CREARE IN POWER BI ---\n",
      "1. Dim_Date[DateKey] → Fact_Startup_Registry[DateKey_Iscrizione] (Many-to-One)\n",
      "2. Dim_Date[DateKey] → Fact_Startup_Registry[DateKey_InizioAttivita] (Many-to-One)\n",
      "3. Dim_Geography[RegionKey] → Fact_Startup_Registry[RegionKey] (Many-to-One)\n",
      "4. Dim_Geography[RegionKey] → Fact_VEM_Investments[RegionKey] (Many-to-One)\n",
      "5. Dim_Geography[RegionKey] → Fact_PEM_Investments[RegionKey] (Many-to-One)\n",
      "6. Dim_Sector[SectorKey] → Fact_Startup_Registry[SectorKey] (Many-to-One)\n",
      "7. Dim_Sector[SectorKey] → Fact_VEM_Investments[SectorKey] (Many-to-One)\n",
      "8. Dim_Sector[SectorKey] → Fact_PEM_Investments[SectorKey] (Many-to-One)\n",
      "9. Dim_Investor[InvestorKey] → Fact_VEM_Investments[InvestorKey] (Many-to-One)\n",
      "10. Dim_Investor[InvestorKey] → Fact_PEM_Investments[InvestorKey] (Many-to-One)\n",
      "\n",
      "=== IMPLEMENTAZIONE COMPLETATA ===\n",
      "Approccio metodologicamente corretto implementato!\n"
     ]
    }
   ],
   "source": [
    "print(\"\\n--- RELAZIONI DA CREARE IN POWER BI ---\")\n",
    "print(\"1. Dim_Date[DateKey] → Fact_Startup_Registry[DateKey_Iscrizione] (Many-to-One)\")\n",
    "print(\"2. Dim_Date[DateKey] → Fact_Startup_Registry[DateKey_InizioAttivita] (Many-to-One)\")\n",
    "print(\"3. Dim_Geography[RegionKey] → Fact_Startup_Registry[RegionKey] (Many-to-One)\")\n",
    "print(\"4. Dim_Geography[RegionKey] → Fact_VEM_Investments[RegionKey] (Many-to-One)\")\n",
    "print(\"5. Dim_Geography[RegionKey] → Fact_PEM_Investments[RegionKey] (Many-to-One)\")\n",
    "print(\"6. Dim_Sector[SectorKey] → Fact_Startup_Registry[SectorKey] (Many-to-One)\")\n",
    "print(\"7. Dim_Sector[SectorKey] → Fact_VEM_Investments[SectorKey] (Many-to-One)\")\n",
    "print(\"8. Dim_Sector[SectorKey] → Fact_PEM_Investments[SectorKey] (Many-to-One)\")\n",
    "print(\"9. Dim_Investor[InvestorKey] → Fact_VEM_Investments[InvestorKey] (Many-to-One)\")\n",
    "print(\"10. Dim_Investor[InvestorKey] → Fact_PEM_Investments[InvestorKey] (Many-to-One)\")\n",
    "\n",
    "print(\"\\n=== IMPLEMENTAZIONE COMPLETATA ===\")\n",
    "print(\"Approccio metodologicamente corretto implementato!\")"
   ]
  },
  {
   "cell_type": "code",
   "execution_count": null,
   "id": "ae6b58b1-8798-49dc-9a6e-72f635e1767b",
   "metadata": {},
   "outputs": [],
   "source": [
    "\n",
    " "
   ]
  }
 ],
 "metadata": {
  "kernelspec": {
   "display_name": "Python [conda env:base] *",
   "language": "python",
   "name": "conda-base-py"
  },
  "language_info": {
   "codemirror_mode": {
    "name": "ipython",
    "version": 3
   },
   "file_extension": ".py",
   "mimetype": "text/x-python",
   "name": "python",
   "nbconvert_exporter": "python",
   "pygments_lexer": "ipython3",
   "version": "3.12.7"
  }
 },
 "nbformat": 4,
 "nbformat_minor": 5
}
