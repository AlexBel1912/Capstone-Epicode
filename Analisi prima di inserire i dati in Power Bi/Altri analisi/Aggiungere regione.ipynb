{
 "cells": [
  {
   "cell_type": "code",
   "execution_count": 10,
   "id": "53271cb1-dcd8-4101-8da4-391d920acecd",
   "metadata": {},
   "outputs": [],
   "source": [
    "import pandas as pd"
   ]
  },
  {
   "cell_type": "code",
   "execution_count": 11,
   "id": "7bfffdec-83ed-495d-92ae-f8a3ccef7f76",
   "metadata": {},
   "outputs": [],
   "source": [
    "# Mappatura completa\n",
    "provincia_regione = {\n",
    "    # LOMBARDIA\n",
    "    'MI': 'LOMBARDIA', 'BG': 'LOMBARDIA', 'BS': 'LOMBARDIA', 'CO': 'LOMBARDIA', \n",
    "    'CR': 'LOMBARDIA', 'LC': 'LOMBARDIA', 'LO': 'LOMBARDIA', 'MN': 'LOMBARDIA', \n",
    "    'MB': 'LOMBARDIA', 'PV': 'LOMBARDIA', 'SO': 'LOMBARDIA', 'VA': 'LOMBARDIA',\n",
    "    \n",
    "    # LAZIO\n",
    "    'RM': 'LAZIO', 'FR': 'LAZIO', 'LT': 'LAZIO', 'RI': 'LAZIO', 'VT': 'LAZIO',\n",
    "    \n",
    "    # CAMPANIA\n",
    "    'NA': 'CAMPANIA', 'AV': 'CAMPANIA', 'BN': 'CAMPANIA', 'CE': 'CAMPANIA', 'SA': 'CAMPANIA',\n",
    "    \n",
    "    # VENETO\n",
    "    'VE': 'VENETO', 'BL': 'VENETO', 'PD': 'VENETO', 'RO': 'VENETO', 'TV': 'VENETO', 'VR': 'VENETO', 'VI': 'VENETO',\n",
    "    \n",
    "    # EMILIA-ROMAGNA\n",
    "    'BO': 'EMILIA-ROMAGNA', 'FC': 'EMILIA-ROMAGNA', 'FE': 'EMILIA-ROMAGNA', 'MO': 'EMILIA-ROMAGNA', \n",
    "    'PR': 'EMILIA-ROMAGNA', 'PC': 'EMILIA-ROMAGNA', 'RA': 'EMILIA-ROMAGNA', 'RE': 'EMILIA-ROMAGNA', 'RN': 'EMILIA-ROMAGNA', 'FO' : 'EMILIA-ROMAGNA',\n",
    "    \n",
    "    # PIEMONTE\n",
    "    'TO': 'PIEMONTE', 'AL': 'PIEMONTE', 'AT': 'PIEMONTE', 'BI': 'PIEMONTE', 'CN': 'PIEMONTE', 'NO': 'PIEMONTE', 'VB': 'PIEMONTE', 'VC': 'PIEMONTE',\n",
    "    \n",
    "    # TOSCANA\n",
    "    'FI': 'TOSCANA', 'AR': 'TOSCANA', 'GR': 'TOSCANA', 'LI': 'TOSCANA', 'LU': 'TOSCANA', 'MS': 'TOSCANA', 'PI': 'TOSCANA', 'PO': 'TOSCANA', 'PT': 'TOSCANA', 'SI': 'TOSCANA',\n",
    "    \n",
    "    # SICILIA\n",
    "    'PA': 'SICILIA', 'AG': 'SICILIA', 'CL': 'SICILIA', 'CT': 'SICILIA', 'EN': 'SICILIA', 'ME': 'SICILIA', 'RG': 'SICILIA', 'SR': 'SICILIA', 'TP': 'SICILIA',\n",
    "    \n",
    "    # PUGLIA\n",
    "    'BA': 'PUGLIA', 'BT': 'PUGLIA', 'BR': 'PUGLIA', 'FG': 'PUGLIA', 'LE': 'PUGLIA', 'TA': 'PUGLIA',\n",
    "    \n",
    "    # LIGURIA\n",
    "    'GE': 'LIGURIA', 'IM': 'LIGURIA', 'LA': 'LIGURIA', 'SV': 'LIGURIA', 'SP': 'LIGURIA',\n",
    "    \n",
    "    # MARCHE\n",
    "    'AN': 'MARCHE', 'AP': 'MARCHE', 'FM': 'MARCHE', 'MC': 'MARCHE', 'PU': 'MARCHE', 'PS' : 'MARCHE',\n",
    "    \n",
    "    # ABRUZZO\n",
    "    'AQ': 'ABRUZZO', 'CH': 'ABRUZZO', 'PE': 'ABRUZZO', 'TE': 'ABRUZZO',\n",
    "    \n",
    "    # UMBRIA\n",
    "    'PG': 'UMBRIA', 'TR': 'UMBRIA',\n",
    "    \n",
    "    # CALABRIA\n",
    "    'CS': 'CALABRIA', 'CZ': 'CALABRIA', 'KR': 'CALABRIA', 'RC': 'CALABRIA', 'VV': 'CALABRIA',\n",
    "    \n",
    "    # SARDEGNA\n",
    "    'CA': 'SARDEGNA', 'CI': 'SARDEGNA', 'NU': 'SARDEGNA', 'OG': 'SARDEGNA', 'OR': 'SARDEGNA', 'OT': 'SARDEGNA', 'SS': 'SARDEGNA', 'SU': 'SARDEGNA',\n",
    "    \n",
    "    # FRIULI-VENEZIA GIULIA\n",
    "    'UD': 'FRIULI-VENEZIA GIULIA', 'GO': 'FRIULI-VENEZIA GIULIA', 'PN': 'FRIULI-VENEZIA GIULIA', 'TS': 'FRIULI-VENEZIA GIULIA',\n",
    "    \n",
    "    # TRENTINO-ALTO ADIGE\n",
    "    'BZ': 'TRENTINO-ALTO ADIGE', 'TN': 'TRENTINO-ALTO ADIGE',\n",
    "    \n",
    "    # MOLISE\n",
    "    'CB': 'MOLISE', 'IS': 'MOLISE',\n",
    "    \n",
    "    # BASILICATA\n",
    "    'PZ': 'BASILICATA', 'MT': 'BASILICATA',\n",
    "    \n",
    "    # VALLE D'AOSTA\n",
    "    'AO': \"VALLE D'AOSTA\"\n",
    "}"
   ]
  },
  {
   "cell_type": "code",
   "execution_count": 14,
   "id": "7c350334-a9f4-4e22-87be-e676a1bca11b",
   "metadata": {},
   "outputs": [],
   "source": [
    "df = pd.read_csv('clean_dataset.csv', sep=';', encoding='utf-8', keep_default_na=False, na_values=[''])"
   ]
  },
  {
   "cell_type": "code",
   "execution_count": 15,
   "id": "00d81dd5-cf79-43cd-b1bb-45cf1c8f4d6b",
   "metadata": {},
   "outputs": [
    {
     "name": "stdout",
     "output_type": "stream",
     "text": [
      "✅ Colonne aggiunte:\n",
      "   regione: 12292/12292 mappate\n",
      "   id_regionale: 12292/12292 create\n",
      "\n",
      "📋 SAMPLE:\n",
      "             nome  pv    regione  Year               id_regionale\n",
      "0           Plw 1  BG  LOMBARDIA  2023       plw_1_lombardia_2023\n",
      "1         Gate 42  NA   CAMPANIA  2017      gate_42_campania_2017\n",
      "2   Block-Data 52  RM      LAZIO  2020   block_data_52_lazio_2020\n",
      "3  E-Solutions 78  RM      LAZIO  2022  e_solutions_78_lazio_2022\n",
      "4     Before 1783  RC   CALABRIA  2023  before_1783_calabria_2023\n",
      "\n",
      "💾 Salvato con entrambe le colonne!\n"
     ]
    }
   ],
   "source": [
    "import pandas\n",
    "\n",
    "# 1. COLONNA REGIONE PURA\n",
    "df['regione'] = df['pv'].map(provincia_regione)\n",
    "\n",
    "# 2. COLONNA IDENTIFICATORE COMPOSTO  \n",
    "df['id_regionale'] = (\n",
    "    df['nome'].str.lower().str.replace(r'[^a-z0-9]', '_', regex=True) + '_' + \n",
    "    df['regione'].str.lower().str.replace(r'[^a-z0-9]', '_', regex=True) + '_' + \n",
    "    df['Year'].astype(str)\n",
    ")\n",
    "\n",
    "# 3. VERIFICA\n",
    "print(\"✅ Colonne aggiunte:\")\n",
    "print(f\"   regione: {df['regione'].notna().sum()}/{len(df)} mappate\")\n",
    "print(f\"   id_regionale: {df['id_regionale'].notna().sum()}/{len(df)} create\")\n",
    "\n",
    "print(\"\\n📋 SAMPLE:\")\n",
    "print(df[['nome', 'pv', 'regione', 'Year', 'id_regionale']].head())\n",
    "\n",
    "# 4. SALVA\n",
    "df.to_csv('startup_with_regions.csv', index=False)\n",
    "print(\"\\n💾 Salvato con entrambe le colonne!\")"
   ]
  },
  {
   "cell_type": "code",
   "execution_count": 6,
   "id": "5591368a-26e9-4a47-96b1-b0ce7e4f80e4",
   "metadata": {},
   "outputs": [
    {
     "name": "stdout",
     "output_type": "stream",
     "text": [
      "Sigle NON MAPPATE:\n",
      "pv\n",
      "PS    60\n",
      "FO    51\n",
      "SP    12\n",
      "Name: count, dtype: int64\n",
      "\n",
      "Tutte le sigle provincia nel dataset:\n",
      "['AG', 'AL', 'AN', 'AO', 'AP', 'AQ', 'AR', 'AT', 'AV', 'BA', 'BG', 'BI', 'BL', 'BN', 'BO', 'BR', 'BS', 'BZ', 'CA', 'CB', 'CE', 'CH', 'CL', 'CN', 'CO', 'CR', 'CS', 'CT', 'CZ', 'EN', 'FE', 'FG', 'FI', 'FM', 'FO', 'FR', 'GE', 'GO', 'GR', 'IM', 'IS', 'KR', 'LC', 'LE', 'LI', 'LO', 'LT', 'LU', 'MB', 'MC', 'ME', 'MI', 'MN', 'MO', 'MS', 'MT', 'NA', 'NO', 'NU', 'OR', 'PA', 'PC', 'PD', 'PE', 'PG', 'PI', 'PN', 'PO', 'PR', 'PS', 'PT', 'PV', 'PZ', 'RA', 'RC', 'RE', 'RG', 'RI', 'RM', 'RN', 'RO', 'SA', 'SI', 'SO', 'SP', 'SR', 'SS', 'SV', 'TA', 'TE', 'TN', 'TO', 'TP', 'TR', 'TS', 'TV', 'UD', 'VA', 'VB', 'VC', 'VE', 'VI', 'VR', 'VT', 'VV']\n"
     ]
    }
   ],
   "source": [
    "# Identifica le sigle non mappate\n",
    "non_mappate = df[df['regione'].isna()]['pv'].value_counts()\n",
    "print(\"Sigle NON MAPPATE:\")\n",
    "print(non_mappate)\n",
    "\n",
    "# Verifica anche i valori unici nella colonna pv\n",
    "print(\"\\nTutte le sigle provincia nel dataset:\")\n",
    "print(sorted(df['pv'].unique()))"
   ]
  },
  {
   "cell_type": "code",
   "execution_count": null,
   "id": "3e03ea82-ae22-4f28-b044-1840d75c5c9f",
   "metadata": {},
   "outputs": [],
   "source": []
  }
 ],
 "metadata": {
  "kernelspec": {
   "display_name": "Python [conda env:base] *",
   "language": "python",
   "name": "conda-base-py"
  },
  "language_info": {
   "codemirror_mode": {
    "name": "ipython",
    "version": 3
   },
   "file_extension": ".py",
   "mimetype": "text/x-python",
   "name": "python",
   "nbconvert_exporter": "python",
   "pygments_lexer": "ipython3",
   "version": "3.12.7"
  }
 },
 "nbformat": 4,
 "nbformat_minor": 5
}
